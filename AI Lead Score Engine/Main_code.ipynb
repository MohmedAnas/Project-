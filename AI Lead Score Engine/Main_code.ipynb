{
 "cells": [
  {
   "cell_type": "code",
   "execution_count": null,
   "id": "ea00761e",
   "metadata": {},
   "outputs": [],
   "source": [
    "import pandas as pd\n",
    "import numpy as np\n",
    "from sklearn.model_selection import train_test_split\n",
    "from sklearn.metrics import mean_absolute_error, r2_score\n",
    "import xgboost as xgb\n",
    "import matplotlib.pyplot as plt\n",
    "import seaborn as sns\n",
    "from sklearn.model_selection import GridSearchCV\n",
    "from sklearn.metrics import classification_report\n",
    "from sklearn.ensemble import GradientBoostingRegressor\n",
    "from fastapi import FastAPI, BackgroundTasks\n",
    "from pydantic import BaseModel\n",
    "import joblib\n",
    "import datetime\n",
    "\n"
   ]
  },
  {
   "cell_type": "code",
   "execution_count": 10,
   "id": "2573a76e",
   "metadata": {},
   "outputs": [
    {
     "data": {
      "text/html": [
       "<div>\n",
       "<style scoped>\n",
       "    .dataframe tbody tr th:only-of-type {\n",
       "        vertical-align: middle;\n",
       "    }\n",
       "\n",
       "    .dataframe tbody tr th {\n",
       "        vertical-align: top;\n",
       "    }\n",
       "\n",
       "    .dataframe thead th {\n",
       "        text-align: right;\n",
       "    }\n",
       "</style>\n",
       "<table border=\"1\" class=\"dataframe\">\n",
       "  <thead>\n",
       "    <tr style=\"text-align: right;\">\n",
       "      <th></th>\n",
       "      <th>lead_id</th>\n",
       "      <th>avg_session_duration</th>\n",
       "      <th>clicks_on_cta</th>\n",
       "      <th>recent_activity_gap_hours</th>\n",
       "      <th>user_age_group</th>\n",
       "      <th>location_tier</th>\n",
       "      <th>occupation_type</th>\n",
       "      <th>ad_click_origin</th>\n",
       "      <th>products_viewed_count</th>\n",
       "      <th>last_message_sentiment</th>\n",
       "      <th>days_since_first_contact</th>\n",
       "      <th>intent_score</th>\n",
       "      <th>consent_given</th>\n",
       "      <th>email</th>\n",
       "      <th>phone_number</th>\n",
       "    </tr>\n",
       "  </thead>\n",
       "  <tbody>\n",
       "    <tr>\n",
       "      <th>0</th>\n",
       "      <td>LEAD1000</td>\n",
       "      <td>134.90</td>\n",
       "      <td>2</td>\n",
       "      <td>10.3</td>\n",
       "      <td>36-50</td>\n",
       "      <td>Tier 3</td>\n",
       "      <td>self-employed</td>\n",
       "      <td>Google Ads</td>\n",
       "      <td>9</td>\n",
       "      <td>0.70</td>\n",
       "      <td>22</td>\n",
       "      <td>0.819</td>\n",
       "      <td>False</td>\n",
       "      <td>lead1000@example.com</td>\n",
       "      <td>9639536279</td>\n",
       "    </tr>\n",
       "    <tr>\n",
       "      <th>1</th>\n",
       "      <td>LEAD1001</td>\n",
       "      <td>115.85</td>\n",
       "      <td>3</td>\n",
       "      <td>14.4</td>\n",
       "      <td>26-35</td>\n",
       "      <td>Tier 3</td>\n",
       "      <td>salaried</td>\n",
       "      <td>WhatsApp</td>\n",
       "      <td>5</td>\n",
       "      <td>-0.61</td>\n",
       "      <td>2</td>\n",
       "      <td>0.858</td>\n",
       "      <td>True</td>\n",
       "      <td>lead1001@example.com</td>\n",
       "      <td>8104822810</td>\n",
       "    </tr>\n",
       "    <tr>\n",
       "      <th>2</th>\n",
       "      <td>LEAD1002</td>\n",
       "      <td>139.43</td>\n",
       "      <td>1</td>\n",
       "      <td>33.2</td>\n",
       "      <td>18-25</td>\n",
       "      <td>Tier 2</td>\n",
       "      <td>salaried</td>\n",
       "      <td>Organic</td>\n",
       "      <td>10</td>\n",
       "      <td>-0.75</td>\n",
       "      <td>17</td>\n",
       "      <td>0.674</td>\n",
       "      <td>True</td>\n",
       "      <td>lead1002@example.com</td>\n",
       "      <td>8412331185</td>\n",
       "    </tr>\n",
       "    <tr>\n",
       "      <th>3</th>\n",
       "      <td>LEAD1003</td>\n",
       "      <td>165.69</td>\n",
       "      <td>1</td>\n",
       "      <td>25.3</td>\n",
       "      <td>18-25</td>\n",
       "      <td>Tier 1</td>\n",
       "      <td>student</td>\n",
       "      <td>WhatsApp</td>\n",
       "      <td>4</td>\n",
       "      <td>0.93</td>\n",
       "      <td>5</td>\n",
       "      <td>0.800</td>\n",
       "      <td>True</td>\n",
       "      <td>lead1003@example.com</td>\n",
       "      <td>8841484516</td>\n",
       "    </tr>\n",
       "    <tr>\n",
       "      <th>4</th>\n",
       "      <td>LEAD1004</td>\n",
       "      <td>112.98</td>\n",
       "      <td>1</td>\n",
       "      <td>23.3</td>\n",
       "      <td>26-35</td>\n",
       "      <td>Tier 3</td>\n",
       "      <td>student</td>\n",
       "      <td>Organic</td>\n",
       "      <td>6</td>\n",
       "      <td>-0.78</td>\n",
       "      <td>14</td>\n",
       "      <td>0.723</td>\n",
       "      <td>True</td>\n",
       "      <td>lead1004@example.com</td>\n",
       "      <td>9873294163</td>\n",
       "    </tr>\n",
       "  </tbody>\n",
       "</table>\n",
       "</div>"
      ],
      "text/plain": [
       "    lead_id  avg_session_duration  clicks_on_cta  recent_activity_gap_hours  \\\n",
       "0  LEAD1000                134.90              2                       10.3   \n",
       "1  LEAD1001                115.85              3                       14.4   \n",
       "2  LEAD1002                139.43              1                       33.2   \n",
       "3  LEAD1003                165.69              1                       25.3   \n",
       "4  LEAD1004                112.98              1                       23.3   \n",
       "\n",
       "  user_age_group location_tier occupation_type ad_click_origin  \\\n",
       "0          36-50        Tier 3   self-employed      Google Ads   \n",
       "1          26-35        Tier 3        salaried        WhatsApp   \n",
       "2          18-25        Tier 2        salaried         Organic   \n",
       "3          18-25        Tier 1         student        WhatsApp   \n",
       "4          26-35        Tier 3         student         Organic   \n",
       "\n",
       "   products_viewed_count  last_message_sentiment  days_since_first_contact  \\\n",
       "0                      9                    0.70                        22   \n",
       "1                      5                   -0.61                         2   \n",
       "2                     10                   -0.75                        17   \n",
       "3                      4                    0.93                         5   \n",
       "4                      6                   -0.78                        14   \n",
       "\n",
       "   intent_score  consent_given                 email  phone_number  \n",
       "0         0.819          False  lead1000@example.com    9639536279  \n",
       "1         0.858           True  lead1001@example.com    8104822810  \n",
       "2         0.674           True  lead1002@example.com    8412331185  \n",
       "3         0.800           True  lead1003@example.com    8841484516  \n",
       "4         0.723           True  lead1004@example.com    9873294163  "
      ]
     },
     "execution_count": 10,
     "metadata": {},
     "output_type": "execute_result"
    }
   ],
   "source": [
    "# Import the Dataset\n",
    "df_path = r'E:\\Oops\\synthetic_lead_data.csv'\n",
    "df = pd.read_csv(df_path)\n",
    "df.head()"
   ]
  },
  {
   "cell_type": "markdown",
   "id": "bb165304",
   "metadata": {},
   "source": [
    "2: Data Quality & Compliance"
   ]
  },
  {
   "cell_type": "code",
   "execution_count": 11,
   "id": "75a5e42b",
   "metadata": {},
   "outputs": [],
   "source": [
    "# Fill missing numeric with median or 0\n",
    "df['clicks_on_cta'] = df['clicks_on_cta'].fillna(df['clicks_on_cta'].median())\n",
    "\n",
    "# Fill missing categorical with 'unknown'\n",
    "df['occupation_type'] = df['occupation_type'].fillna('unknown')\n"
   ]
  },
  {
   "cell_type": "code",
   "execution_count": 12,
   "id": "92876821",
   "metadata": {},
   "outputs": [],
   "source": [
    "# Map various similar occupation labels into standard ones (Data Quality)\n",
    "occupation_map = {\n",
    "    'salaried': 'Salaried',\n",
    "    'Salaried': 'Salaried',\n",
    "    'Self Employed': 'Self-employed',\n",
    "    'self-employed': 'Self-employed',\n",
    "    'unknown': 'Unknown'\n",
    "}\n",
    "\n",
    "df['occupation_type'] = df['occupation_type'].map(occupation_map)\n"
   ]
  },
  {
   "cell_type": "code",
   "execution_count": 15,
   "id": "eb884923",
   "metadata": {},
   "outputs": [],
   "source": [
    "# Drop or flag records without user consent\n",
    "df = df[df['consent_given'] == True].copy()\n"
   ]
  },
  {
   "cell_type": "code",
   "execution_count": 14,
   "id": "fce3f66a",
   "metadata": {},
   "outputs": [],
   "source": [
    "def mask_email(email):\n",
    "    if not email or '@' not in email:\n",
    "        return ''\n",
    "    return email[0] + '***' + email[email.index('@'):]\n",
    "\n",
    "def mask_phone(phone):\n",
    "    phone = str(phone)  # Convert to string\n",
    "    if not phone or len(phone) != 10:\n",
    "        return ''\n",
    "    return '*******' + phone[-3:]\n",
    "\n",
    "df['email_masked'] = df['email'].apply(mask_email)\n",
    "df['phone_masked'] = df['phone_number'].apply(mask_phone)\n",
    "\n",
    "# Drop original PII fields before modeling\n",
    "df = df.drop(columns=['email', 'phone_number'])\n"
   ]
  },
  {
   "cell_type": "code",
   "execution_count": 16,
   "id": "288af417",
   "metadata": {},
   "outputs": [
    {
     "name": "stdout",
     "output_type": "stream",
     "text": [
      "      lead_id  avg_session_duration  clicks_on_cta  recent_activity_gap_hours  \\\n",
      "1    LEAD1001                115.85              3                       14.4   \n",
      "2    LEAD1002                139.43              1                       33.2   \n",
      "3    LEAD1003                165.69              1                       25.3   \n",
      "4    LEAD1004                112.98              1                       23.3   \n",
      "5    LEAD1005                112.98              1                       10.4   \n",
      "..        ...                   ...            ...                        ...   \n",
      "495  LEAD1495                136.17              3                       11.1   \n",
      "496  LEAD1496                 88.88              3                        1.3   \n",
      "497  LEAD1497                114.29              3                       35.0   \n",
      "498  LEAD1498                 93.73              2                       12.9   \n",
      "499  LEAD1499                 78.52              1                       41.4   \n",
      "\n",
      "    user_age_group location_tier occupation_type ad_click_origin  \\\n",
      "1            26-35        Tier 3        Salaried        WhatsApp   \n",
      "2            18-25        Tier 2        Salaried         Organic   \n",
      "3            18-25        Tier 1             NaN        WhatsApp   \n",
      "4            26-35        Tier 3             NaN         Organic   \n",
      "5            36-50        Tier 3   Self-employed      Google Ads   \n",
      "..             ...           ...             ...             ...   \n",
      "495          26-35        Tier 2   Self-employed        Meta Ads   \n",
      "496          18-25        Tier 3             NaN         Organic   \n",
      "497          26-35        Tier 3        Salaried        WhatsApp   \n",
      "498          36-50        Tier 3             NaN        Meta Ads   \n",
      "499          36-50        Tier 2   Self-employed        WhatsApp   \n",
      "\n",
      "     products_viewed_count  last_message_sentiment  days_since_first_contact  \\\n",
      "1                        5                   -0.61                         2   \n",
      "2                       10                   -0.75                        17   \n",
      "3                        4                    0.93                         5   \n",
      "4                        6                   -0.78                        14   \n",
      "5                        8                   -0.04                        25   \n",
      "..                     ...                     ...                       ...   \n",
      "495                      6                    0.76                         2   \n",
      "496                     12                    0.01                        14   \n",
      "497                      4                    0.02                        12   \n",
      "498                      5                   -0.72                        17   \n",
      "499                     13                    0.97                        12   \n",
      "\n",
      "     intent_score  consent_given      email_masked phone_masked  \n",
      "1           0.858           True  l***@example.com   *******810  \n",
      "2           0.674           True  l***@example.com   *******185  \n",
      "3           0.800           True  l***@example.com   *******516  \n",
      "4           0.723           True  l***@example.com   *******163  \n",
      "5           0.767           True  l***@example.com   *******813  \n",
      "..            ...            ...               ...          ...  \n",
      "495         0.921           True  l***@example.com   *******992  \n",
      "496         0.922           True  l***@example.com   *******679  \n",
      "497         0.697           True  l***@example.com   *******798  \n",
      "498         0.770           True  l***@example.com   *******433  \n",
      "499         0.721           True  l***@example.com   *******892  \n",
      "\n",
      "[463 rows x 15 columns]\n"
     ]
    }
   ],
   "source": [
    "print(df)\n"
   ]
  },
  {
   "cell_type": "markdown",
   "id": "91cb89ec",
   "metadata": {},
   "source": [
    "3: Model Choice & Metrics"
   ]
  },
  {
   "cell_type": "code",
   "execution_count": 18,
   "id": "7d1b3746",
   "metadata": {},
   "outputs": [
    {
     "name": "stdout",
     "output_type": "stream",
     "text": [
      "📈 Technical Metrics:\n",
      "✅ R² Score: 0.9857\n",
      "✅ MAE: 0.0134\n",
      "\n",
      "📊 Business Metrics:\n",
      "🎯 Top 10% Precision: 1.0000\n",
      "📈 Lift over Random: 9.30x\n"
     ]
    }
   ],
   "source": [
    "# Assume df is pre-cleaned and PII removed\n",
    "X = df.drop(columns=['lead_id', 'email_masked', 'phone_masked', 'intent_score'])\n",
    "y = df['intent_score']\n",
    "\n",
    "# One-hot encode categorical columns\n",
    "X = pd.get_dummies(X)\n",
    "\n",
    "# Train/test split\n",
    "X_train, X_test, y_train, y_test = train_test_split(X, y, test_size=0.2, random_state=42)\n",
    "\n",
    "# Train Gradient Boosted Tree model\n",
    "model = xgb.XGBRegressor(n_estimators=100, learning_rate=0.1, max_depth=5, random_state=42)\n",
    "model.fit(X_train, y_train)\n",
    "\n",
    "# Predict\n",
    "y_pred = model.predict(X_test)\n",
    "\n",
    "# ✅ Technical Metrics\n",
    "mae = mean_absolute_error(y_test, y_pred)\n",
    "r2 = r2_score(y_test, y_pred)\n",
    "\n",
    "# ✅ Business Metric 1: Top 10% Precision\n",
    "top_10_percent_threshold = np.percentile(y_pred, 90)\n",
    "top_10_predicted = y_pred >= top_10_percent_threshold\n",
    "top_10_actual = y_test >= np.percentile(y_test, 90)\n",
    "\n",
    "true_positives = np.sum(top_10_predicted & top_10_actual)\n",
    "precision_top_10 = true_positives / np.sum(top_10_predicted)\n",
    "\n",
    "# ✅ Business Metric 2: Lift over Random\n",
    "random_precision = np.mean(top_10_actual)\n",
    "lift = precision_top_10 / random_precision if random_precision > 0 else 0\n",
    "\n",
    "# 📊 Output all metrics\n",
    "print(\"📈 Technical Metrics:\")\n",
    "print(f\"✅ R² Score: {r2:.4f}\")\n",
    "print(f\"✅ MAE: {mae:.4f}\\n\")\n",
    "\n",
    "print(\"📊 Business Metrics:\")\n",
    "print(f\"🎯 Top 10% Precision: {precision_top_10:.4f}\")\n",
    "print(f\"📈 Lift over Random: {lift:.2f}x\")"
   ]
  },
  {
   "cell_type": "markdown",
   "id": "c0684c2e",
   "metadata": {},
   "source": [
    "Visualization of Model choice & Metrics\n"
   ]
  },
  {
   "cell_type": "code",
   "execution_count": 21,
   "id": "63722d65",
   "metadata": {},
   "outputs": [
    {
     "name": "stderr",
     "output_type": "stream",
     "text": [
      "C:\\Users\\admin\\AppData\\Local\\Temp\\ipykernel_15088\\3373553664.py:18: UserWarning: Glyph 128285 (\\N{TOP WITH UPWARDS ARROW ABOVE}) missing from font(s) DejaVu Sans.\n",
      "  plt.tight_layout()\n",
      "c:\\Users\\admin\\AppData\\Local\\Programs\\Python\\Python311\\Lib\\site-packages\\IPython\\core\\pylabtools.py:152: UserWarning: Glyph 128285 (\\N{TOP WITH UPWARDS ARROW ABOVE}) missing from font(s) DejaVu Sans.\n",
      "  fig.canvas.print_figure(bytes_io, **kw)\n"
     ]
    },
    {
     "data": {
      "image/png": "[encoded data removed]",
      "text/plain": [
       "<Figure size 1200x600 with 1 Axes>"
      ]
     },
     "metadata": {},
     "output_type": "display_data"
    },
    {
     "name": "stderr",
     "output_type": "stream",
     "text": [
      "C:\\Users\\admin\\AppData\\Local\\Temp\\ipykernel_15088\\3373553664.py:30: UserWarning: Glyph 129504 (\\N{BRAIN}) missing from font(s) DejaVu Sans.\n",
      "  plt.tight_layout()\n",
      "c:\\Users\\admin\\AppData\\Local\\Programs\\Python\\Python311\\Lib\\site-packages\\IPython\\core\\pylabtools.py:152: UserWarning: Glyph 129504 (\\N{BRAIN}) missing from font(s) DejaVu Sans.\n",
      "  fig.canvas.print_figure(bytes_io, **kw)\n"
     ]
    },
    {
     "data": {
      "image/png": "[encoded data removed]",
      "text/plain": [
       "<Figure size 1000x600 with 2 Axes>"
      ]
     },
     "metadata": {},
     "output_type": "display_data"
    }
   ],
   "source": [
    "# Recalculate predicted scores for the full dataset\n",
    "full_pred = model.predict(X)\n",
    "df['predicted_intent'] = full_pred\n",
    "\n",
    "# Merge predictions with lead_id\n",
    "df_viz = df[['lead_id', 'predicted_intent', 'clicks_on_cta', 'products_viewed_count', 'avg_session_duration', 'recent_activity_gap_hours']]\n",
    "\n",
    "# Sort and pick top 15\n",
    "top_leads = df_viz.sort_values(by='predicted_intent', ascending=False).head(15)\n",
    "\n",
    "# Bar Plot of Predicted Intent\n",
    "plt.figure(figsize=(12, 6))\n",
    "sns.barplot(data=top_leads, x='lead_id', y='predicted_intent', palette='viridis')\n",
    "plt.xticks(rotation=45, ha='right')\n",
    "plt.title(\"🔝 Top 15 Leads by Predicted Intent Score\")\n",
    "plt.ylabel(\"Predicted Intent Score\")\n",
    "plt.xlabel(\"Lead ID\")\n",
    "plt.tight_layout()\n",
    "plt.show()\n",
    "\n",
    "# Normalize values for better heatmap comparison\n",
    "top_heatmap = top_leads.set_index('lead_id')[['clicks_on_cta', 'products_viewed_count', 'avg_session_duration', 'recent_activity_gap_hours']]\n",
    "top_heatmap_normalized = (top_heatmap - top_heatmap.min()) / (top_heatmap.max() - top_heatmap.min())\n",
    "\n",
    "plt.figure(figsize=(10, 6))\n",
    "sns.heatmap(top_heatmap_normalized.T, cmap='YlGnBu', annot=True, cbar_kws={'label': 'Normalized Score'})\n",
    "plt.title(\"🧠 Feature Heatmap for Top 15 Predicted Leads\")\n",
    "plt.xlabel(\"Lead ID\")\n",
    "plt.ylabel(\"Feature\")\n",
    "plt.tight_layout()\n",
    "plt.show()"
   ]
  },
  {
   "cell_type": "markdown",
   "id": "a02d2686",
   "metadata": {},
   "source": [
    "4. Improving lift & Adoption"
   ]
  },
  {
   "cell_type": "markdown",
   "id": "38dd5f4d",
   "metadata": {},
   "source": [
    "(i) Two Ways to Boost Model Lift\n",
    "Feature Engineering Improvements\n",
    "Hyperparameter Tuning"
   ]
  },
  {
   "cell_type": "code",
   "execution_count": 28,
   "id": "d4bb86f9",
   "metadata": {},
   "outputs": [
    {
     "name": "stdout",
     "output_type": "stream",
     "text": [
      "✅ Best R² Score: 0.975\n",
      "✅ Best Params: {'learning_rate': 0.1, 'max_depth': 3, 'n_estimators': 100}\n"
     ]
    }
   ],
   "source": [
    "# Step 4.i.1: Feature Engineering Boost (create new interaction features)\n",
    "df['cta_per_product'] = df['clicks_on_cta'] / df['products_viewed_count']\n",
    "df['activity_ratio'] = df['avg_session_duration'] / (df['recent_activity_gap_hours'] + 1)\n",
    "\n",
    "# Re-select features\n",
    "feature_cols = [\n",
    "    'clicks_on_cta', 'recent_activity_gap_hours', 'products_viewed_count',\n",
    "    'last_message_sentiment', 'days_since_first_contact',\n",
    "    'cta_per_product', 'activity_ratio'\n",
    "]\n",
    "X = df[feature_cols]\n",
    "y = df['intent_score']\n",
    "\n",
    "# Step 4.i.2: Hyperparameter tuning\n",
    "param_grid = {\n",
    "    'n_estimators': [50, 100],\n",
    "    'learning_rate': [0.1, 0.05],\n",
    "    'max_depth': [3, 5]\n",
    "}\n",
    "\n",
    "grid = GridSearchCV(GradientBoostingRegressor(), param_grid, cv=3, scoring='r2')\n",
    "grid.fit(X, y)\n",
    "\n",
    "print(f\"✅ Best R² Score: {grid.best_score_:.3f}\")\n",
    "print(f\"✅ Best Params: {grid.best_params_}\")\n",
    "\n",
    "# Refit with best model\n",
    "best_model = grid.best_estimator_\n",
    "df['predicted_intent'] = best_model.predict(X)"
   ]
  },
  {
   "cell_type": "markdown",
   "id": "68342423",
   "metadata": {},
   "source": [
    "(ii) Sales team adoption aids"
   ]
  },
  {
   "cell_type": "code",
   "execution_count": 29,
   "id": "8e78bcf5",
   "metadata": {},
   "outputs": [
    {
     "name": "stdout",
     "output_type": "stream",
     "text": [
      "📄 Top Recommended Leads (For Sales Team):\n",
      " lead_id     email_masked phone_masked  predicted_intent  clicks_on_cta  products_viewed_count\n",
      "LEAD1371 l***@example.com   *******698          0.992537              3                     13\n",
      "LEAD1033 l***@example.com   *******458          0.976204              5                     12\n",
      "LEAD1401 l***@example.com   *******192          0.973681              5                      6\n",
      "LEAD1291 l***@example.com   *******004          0.969399              2                     10\n",
      "LEAD1046 l***@example.com   *******856          0.964790              6                     13\n",
      "LEAD1484 l***@example.com   *******517          0.963867              5                      3\n",
      "LEAD1437 l***@example.com   *******600          0.963449              0                     12\n",
      "LEAD1250 l***@example.com   *******492          0.958881              5                     12\n",
      "LEAD1055 l***@example.com   *******157          0.950744              2                      8\n",
      "LEAD1058 l***@example.com   *******200          0.947294              3                     14\n"
     ]
    }
   ],
   "source": [
    "# Sales-readable report\n",
    "sales_cols = ['lead_id', 'email_masked', 'phone_masked', 'predicted_intent', 'clicks_on_cta', 'products_viewed_count']\n",
    "sales_report = df[sales_cols].sort_values(by='predicted_intent', ascending=False).head(10)\n",
    "\n",
    "# Export or display\n",
    "print(\"📄 Top Recommended Leads (For Sales Team):\")\n",
    "print(sales_report.to_string(index=False))\n",
    "\n",
    "# Optional: save to CSV\n",
    "sales_report.to_csv(\"top_leads_for_sales.csv\", index=False)\n"
   ]
  },
  {
   "cell_type": "markdown",
   "id": "dbc41acf",
   "metadata": {},
   "source": [
    "5. Real-time Architecture & Scale"
   ]
  },
  {
   "cell_type": "code",
   "execution_count": 33,
   "id": "4d6807dc",
   "metadata": {},
   "outputs": [
    {
     "data": {
      "text/plain": [
       "['gb_model.pkl']"
      ]
     },
     "execution_count": 33,
     "metadata": {},
     "output_type": "execute_result"
    }
   ],
   "source": [
    "import pandas as pd\n",
    "import joblib\n",
    "from sklearn.ensemble import GradientBoostingRegressor\n",
    "from sklearn.preprocessing import OneHotEncoder\n",
    "from sklearn.compose import ColumnTransformer\n",
    "from sklearn.pipeline import Pipeline\n",
    "\n",
    "# Sample dataset\n",
    "df_path = r'E:\\Oops\\synthetic_lead_data.csv'\n",
    "df = pd.read_csv(df_path)\n",
    "\n",
    "# Features and target\n",
    "# Drop columns that are identifiers or PII\n",
    "X = df.drop(columns=[\"lead_id\", \"email\", \"phone_number\", \"intent_score\"], errors='ignore')\n",
    "y = df[\"intent_score\"]\n",
    "\n",
    "\n",
    "# Categorical columns\n",
    "cat_cols = ['user_age_group', 'location_tier', 'occupation_type', 'ad_click_origin']\n",
    "num_cols = [col for col in X.columns if col not in cat_cols]\n",
    "\n",
    "# Pipeline\n",
    "preprocessor = ColumnTransformer([\n",
    "    (\"cat\", OneHotEncoder(handle_unknown='ignore'), cat_cols)\n",
    "], remainder='passthrough')\n",
    "\n",
    "model = Pipeline([\n",
    "    (\"prep\", preprocessor),\n",
    "    (\"reg\", GradientBoostingRegressor(n_estimators=100, max_depth=4, random_state=42))\n",
    "])\n",
    "\n",
    "# Train\n",
    "model.fit(X, y)\n",
    "\n",
    "# Save model\n",
    "joblib.dump(model, \"gb_model.pkl\")\n"
   ]
  },
  {
   "cell_type": "code",
   "execution_count": 36,
   "id": "2cdb20b9",
   "metadata": {},
   "outputs": [
    {
     "name": "stdout",
     "output_type": "stream",
     "text": [
      "✅ Encoder saved as encoder.pkl\n"
     ]
    }
   ],
   "source": [
    "from sklearn.preprocessing import OneHotEncoder\n",
    "import pickle\n",
    "\n",
    "# Select categorical columns\n",
    "categorical_cols = ['user_age_group', 'location_tier', 'occupation_type', 'ad_click_origin']\n",
    "\n",
    "# Fit encoder\n",
    "encoder = OneHotEncoder(handle_unknown='ignore', sparse_output=False)\n",
    "encoded_features = encoder.fit_transform(df[categorical_cols])\n",
    "\n",
    "# Save encoder to file\n",
    "with open('encoder.pkl', 'wb') as f:\n",
    "    pickle.dump(encoder, f)\n",
    "\n",
    "print(\"✅ Encoder saved as encoder.pkl\")\n"
   ]
  },
  {
   "cell_type": "code",
   "execution_count": 37,
   "id": "ee3a3ca1",
   "metadata": {},
   "outputs": [],
   "source": [
    "# Load trained model and encoder\n",
    "model = joblib.load(\"gb_model.pkl\")\n",
    "encoder = joblib.load(\"encoder.pkl\")  # if used one-hot encoding\n",
    "\n",
    "app = FastAPI()\n",
    "\n",
    "class LeadData(BaseModel):\n",
    "    avg_session_duration: float\n",
    "    clicks_on_cta: int\n",
    "    recent_activity_gap_hours: float\n",
    "    user_age_group: str\n",
    "    location_tier: str\n",
    "    occupation_type: str\n",
    "    ad_click_origin: str\n",
    "    products_viewed_count: int\n",
    "    last_message_sentiment: float\n",
    "    days_since_first_contact: int\n",
    "\n",
    "def push_to_crm_or_whatsapp(lead_id: str, score: float):\n",
    "    # Simulate a CRM/WhatsApp push (placeholder)\n",
    "    print(f\"📨 Sent to CRM for {lead_id} with score {score:.2f}\")\n",
    "\n",
    "@app.post(\"/predict\")\n",
    "def predict_lead_score(data: LeadData, background_tasks: BackgroundTasks):\n",
    "    # Convert input to DataFrame\n",
    "    input_df = pd.DataFrame([data.dict()])\n",
    "\n",
    "    # Encode categorical columns (should match training)\n",
    "    input_encoded = encoder.transform(input_df)\n",
    "\n",
    "    # Predict intent score\n",
    "    score = model.predict(input_encoded)[0]\n",
    "\n",
    "    # Simulate lead_id for now\n",
    "    lead_id = f\"LEAD{np.random.randint(10000,99999)}\"\n",
    "\n",
    "    # Async push to CRM or WhatsApp\n",
    "    background_tasks.add_task(push_to_crm_or_whatsapp, lead_id, score)\n",
    "\n",
    "    return {\"lead_id\": lead_id, \"predicted_intent_score\": round(score, 3)}"
   ]
  },
  {
   "cell_type": "markdown",
   "id": "f399e22f",
   "metadata": {},
   "source": []
  },
  {
   "cell_type": "code",
   "execution_count": null,
   "id": "d715dadd",
   "metadata": {},
   "outputs": [],
   "source": []
  },
  {
   "cell_type": "code",
   "execution_count": null,
   "id": "447d43e8",
   "metadata": {},
   "outputs": [],
   "source": []
  }
 ],
 "metadata": {
  "kernelspec": {
   "display_name": "Python 3",
   "language": "python",
   "name": "python3"
  },
  "language_info": {
   "codemirror_mode": {
    "name": "ipython",
    "version": 3
   },
   "file_extension": ".py",
   "mimetype": "text/x-python",
   "name": "python",
   "nbconvert_exporter": "python",
   "pygments_lexer": "ipython3",
   "version": "3.11.4"
  }
 },
 "nbformat": 4,
 "nbformat_minor": 5
}
